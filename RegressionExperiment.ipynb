{
 "cells": [
  {
   "cell_type": "code",
   "execution_count": 1,
   "metadata": {
    "collapsed": true
   },
   "outputs": [],
   "source": [
    "#导入相应的包\n",
    "from sklearn.externals.joblib import Memory\n",
    "from sklearn.datasets import load_svmlight_file\n",
    "from sklearn.model_selection import train_test_split\n",
    "import matplotlib.pyplot as plt\n",
    "import numpy as np"
   ]
  },
  {
   "cell_type": "code",
   "execution_count": 2,
   "metadata": {
    "collapsed": true
   },
   "outputs": [],
   "source": [
    "#定义逻辑函数\n",
    "def logisticFunction(w,X):\n",
    "    return 1/(1+np.e**(np.dot(X,np.transpose(w))*-1))"
   ]
  },
  {
   "cell_type": "code",
   "execution_count": 3,
   "metadata": {
    "collapsed": true
   },
   "outputs": [],
   "source": [
    "#定义损失函数\n",
    "def logistic_costFunction(w,X,y):\n",
    "    temp=y*np.log(logisticFunction(w,X))+(1-y)*np.log(1-logisticFunction(w,X));\n",
    "    #乘以负一，因为由似然函数求最大值转换为求最小值\n",
    "    return np.sum(temp*-1)/y.shape[0]\n"
   ]
  },
  {
   "cell_type": "code",
   "execution_count": 4,
   "metadata": {
    "collapsed": true
   },
   "outputs": [],
   "source": [
    "#定义梯度函数\n",
    "def logistic_w_gradient(w,X,y):\n",
    "    h=logisticFunction(w,X);\n",
    "    temp=h-y\n",
    "    gradient=temp*X;\n",
    "    return gradient"
   ]
  },
  {
   "cell_type": "code",
   "execution_count": 5,
   "metadata": {
    "collapsed": true
   },
   "outputs": [],
   "source": [
    "#定义准确率函数\n",
    "def logistic_predict(w,X,y):\n",
    "    predict=logisticFunction(w,X);\n",
    "    predict[predict<0.5]=-1;\n",
    "    predict[predict>=0.5]=1\n",
    "    cost = np.sum(np.abs(y - predict)) / 2\n",
    "    return 1-cost/y.shape[0]"
   ]
  },
  {
   "cell_type": "code",
   "execution_count": 6,
   "metadata": {
    "collapsed": true
   },
   "outputs": [],
   "source": [
    "#随机选取小样本\n",
    "def random_sample(X,y,m):\n",
    "    X_random=[]\n",
    "    y_random=[]\n",
    "    for i in range(m):\n",
    "        np.random.seed(i);\n",
    "        index=int(np.random.rand()*X.shape[0])\n",
    "        X_random.append(X[index])\n",
    "        y_random.append(y[index])\n",
    "    return np.array(X_random),np.array(y_random)"
   ]
  },
  {
   "cell_type": "code",
   "execution_count": 7,
   "metadata": {
    "collapsed": true
   },
   "outputs": [],
   "source": [
    "def logisticRegression(train_file,test_file):\n",
    "    #读取文件\n",
    "    X_train,y_train_origin=load_svmlight_file(train_file)\n",
    "    X_test,y_test_origin=load_svmlight_file(test_file,n_features=123)\n",
    "    #稀疏矩阵转ndarray\n",
    "    X_train=X_train.toarray().astype(float)\n",
    "    X_test=X_test.toarray().astype(float)\n",
    "    #保证y的shape\n",
    "    y_train_origin=np.reshape(y_train_origin,(y_train_origin.shape[0],1))\n",
    "    y_test_origin=np.reshape(y_test_origin,(y_test_origin.shape[0],1))\n",
    "    #将y从-1,+1变回为0，+1\n",
    "    y_train=(y_train_origin+1)/2\n",
    "    y_test=(y_test_origin+1)/2\n",
    "    #添加一列全1,提供给b\n",
    "    X_b=np.ones(X_train.shape[0])\n",
    "    X_train=np.c_[X_b,X_train]\n",
    "    X_b=np.ones(X_test.shape[0])\n",
    "    X_test=np.c_[X_b,X_test]\n",
    "\n",
    "    #不同算法的rate是不一样的，所以后面会有调整\n",
    "    rate=0.1\n",
    "    iteration_time = [] #迭代次数   \n",
    "    #NAG\n",
    "    NAG_test_loss_value = [] #测试数据的loss值\n",
    "    #rmseprop\n",
    "    RMSEprop_test_loss_value = [] #测试数据的loss值\n",
    "    #Adadelta\n",
    "    Adadelta_test_loss_value = [] #测试数据的loss值\n",
    "    #Adam\n",
    "    Adam_test_loss_value = [] #测试数据的loss值\n",
    "    \n",
    "    print(\"begin\")\n",
    "    #######################NAG##########################\n",
    "    #初始化参数\n",
    "    w=np.zeros((1,X_train.shape[1]))\n",
    "    #学习率\n",
    "    rate=0.01\n",
    "    #动量参数\n",
    "    u=0.8\n",
    "    #动量\n",
    "    v=0\n",
    "    for i in range(1000):\n",
    "        #随机批量梯度\n",
    "        X_train_random,y_train_random=random_sample(X_train,y_train,2000)\n",
    "        gradient = logistic_w_gradient(w - u * v, X_train_random, y_train_random)\n",
    "        gradient = np.sum(gradient, axis=0) / gradient.shape[0]\n",
    "        v = u * v + rate * gradient;\n",
    "        w = w - v\n",
    "        NAG_test_loss_value.append(logistic_costFunction(w,X_test,y_test))\n",
    "        iteration_time.append(i+1) \n",
    "    print(\"NAG准确率\")\n",
    "    print(logistic_predict(w,X_test,y_test_origin))\n",
    "    ######################RMSEprop##########################\n",
    "        #初始化参数\n",
    "    w=np.zeros((1,X_train.shape[1]))\n",
    "    rate=0.001#如果rate太大，会跳过最小值，再某个数值之间来回波动\n",
    "    u=0.8#权重参数\n",
    "    r=0#指数加权移动平均变量\n",
    "    theta=0.000001#稳定常数\n",
    "    for i in range(1000):\n",
    "        X_train_random, y_train_random = random_sample(X_train, y_train, 2000)\n",
    "        gradient = logistic_w_gradient(w, X_train_random, y_train_random)\n",
    "        gradient = np.sum(gradient, axis=0) / gradient.shape[0]\n",
    "        r=u*r+(1-u)*(gradient**2);\n",
    "        w=w-(rate/np.sqrt(theta+r))*gradient;\n",
    "        RMSEprop_test_loss_value.append(logistic_costFunction(w,X_test,y_test)) \n",
    "    print(\"RMSEprop准确率\")\n",
    "    print(logistic_predict(w,X_test,y_test_origin))\n",
    "    ######################Adadelta##########################\n",
    "    #初始化参数\n",
    "    w=np.zeros((1,X_train.shape[1]))\n",
    "    s=0#对gradient指数加权移动平均变量\n",
    "    u=0.8#权重参数\n",
    "    delta=0#对s指数加权移动平均变量\n",
    "    theta=0.000001#稳定常数\n",
    "    for i in range(1000):\n",
    "        X_train_random, y_train_random = random_sample(X_train, y_train, 2000)\n",
    "\n",
    "        gradient = logistic_w_gradient(w, X_train_random, y_train_random)\n",
    "        gradient = np.sum(gradient, axis=0) / gradient.shape[0]\n",
    "        s=u*s+(1-u)*(gradient**2);\n",
    "        g=(np.sqrt(delta+theta)/np.sqrt(s+theta))*gradient\n",
    "        delta=u*delta+(1-u)*(g**2)\n",
    "        w=w-g\n",
    "        Adadelta_test_loss_value.append(logistic_costFunction(w,X_test,y_test))\n",
    "    print(\"Adadelta准确率\")\n",
    "    print(logistic_predict(w,X_test,y_test_origin))\n",
    "    #######################Adam##########################\n",
    "    #初始化参数\n",
    "    v=0\n",
    "    w=np.zeros((1,X_train.shape[1]))\n",
    "    p1=0.9#动量参数\n",
    "    p2=0.999#指数加权参数\n",
    "    theta=0.00000001#稳定常数\n",
    "    s=0\n",
    "    step=0#次数\n",
    "    rate=0.001\n",
    "    for i in range(1000):\n",
    "        step+=1\n",
    "        X_train_random, y_train_random = random_sample(X_train, y_train, 2000)\n",
    "        gradient = logistic_w_gradient(w, X_train_random, y_train_random)\n",
    "        gradient = np.sum(gradient, axis=0) / gradient.shape[0]\n",
    "        v=p1*v+(1-p1)*gradient;\n",
    "        s=p2*s+(1-p2)*(gradient**2)\n",
    "        v_=v/(1-p1**step)\n",
    "        s_=s/(1-p2**step)\n",
    "        w=w-rate*v_/(np.sqrt(s_)+theta)\n",
    "        Adam_test_loss_value.append(logistic_costFunction(w,X_test,y_test))\n",
    "    print(\"Adam准确率\")\n",
    "    print(logistic_predict(w,X_test,y_test_origin))        \n",
    "    plt.plot(iteration_time, NAG_test_loss_value , label='NAGTraining Loss')\n",
    "    plt.plot(iteration_time, RMSEprop_test_loss_value,label='RMSEpropTraining Loss')\n",
    "    plt.plot(iteration_time, Adadelta_test_loss_value,label='AdadeltapropTraining Loss')\n",
    "    plt.plot(iteration_time, Adam_test_loss_value,label='AdamTraining Loss')\n",
    "    plt.title('loss')\n",
    "    plt.legend()\n",
    "    plt.show()\n",
    "    \n",
    "        "
   ]
  },
  {
   "cell_type": "code",
   "execution_count": 12,
   "metadata": {},
   "outputs": [
    {
     "name": "stdout",
     "output_type": "stream",
     "text": [
      "begin\n",
      "NAG准确率\n",
      "0.838830538665\n",
      "RMSEprop准确率\n",
      "0.847675204226\n",
      "Adadelta准确率\n",
      "0.847429519071\n",
      "Adam准确率\n",
      "0.841287390209\n"
     ]
    },
    {
     "data": {
      "image/png": "[encoded data removed]",
      "text/plain": [
       "<matplotlib.figure.Figure at 0x7f458c491978>"
      ]
     },
     "metadata": {},
     "output_type": "display_data"
    }
   ],
   "source": [
    "logisticRegression(\"a9a\",\"a9at\")"
   ]
  }
 ],
 "metadata": {
  "kernelspec": {
   "display_name": "Python 3",
   "language": "python",
   "name": "python3"
  },
  "language_info": {
   "codemirror_mode": {
    "name": "ipython",
    "version": 3
   },
   "file_extension": ".py",
   "mimetype": "text/x-python",
   "name": "python",
   "nbconvert_exporter": "python",
   "pygments_lexer": "ipython3",
   "version": "3.6.2"
  }
 },
 "nbformat": 4,
 "nbformat_minor": 2
}

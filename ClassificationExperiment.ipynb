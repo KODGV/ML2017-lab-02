{
 "cells": [
  {
   "cell_type": "code",
   "execution_count": 11,
   "metadata": {
    "collapsed": true
   },
   "outputs": [],
   "source": [
    "#导入相应的包\n",
    "from sklearn.externals.joblib import Memory\n",
    "from sklearn.datasets import load_svmlight_file\n",
    "from sklearn.model_selection import train_test_split\n",
    "import matplotlib.pyplot as plt\n",
    "import numpy as np"
   ]
  },
  {
   "cell_type": "code",
   "execution_count": 12,
   "metadata": {
    "collapsed": true
   },
   "outputs": [],
   "source": [
    "#定义损失函数\n",
    "def svm_costFunction(w,X,y,reg):\n",
    "    margin=1-y*(np.dot(X, np.transpose(w)))\n",
    "    #max(0,1-y*X*wt),如果小于0就取回为0\n",
    "    margin[margin<=0]=0\n",
    "    cost=reg*np.sum(margin)+np.sum(w**2)\n",
    "    return cost/y.shape[0]"
   ]
  },
  {
   "cell_type": "code",
   "execution_count": 13,
   "metadata": {
    "collapsed": true
   },
   "outputs": [],
   "source": [
    "#定义梯度\n",
    "def svm_w_gradient(w,X,y,reg):\n",
    "    margin=1-y*(np.dot(X, np.transpose(w)))\n",
    "    #这个处理可以把小于0置0,大于0的留下来求导\n",
    "    margin[margin<=0]=0\n",
    "    margin[margin>0]=1;\n",
    "    temp=-1*y*X;\n",
    "    temp=temp*margin\n",
    "    gradient=reg*np.sum(temp,axis=0)+2*w;\n",
    "    return gradient"
   ]
  },
  {
   "cell_type": "code",
   "execution_count": 14,
   "metadata": {
    "collapsed": true
   },
   "outputs": [],
   "source": [
    "#定义准确率\n",
    "def svm_predict(w,X,y):\n",
    "    predict=np.dot(X,np.transpose(w));\n",
    "    predict=np.sign(predict)\n",
    "    rate=1-(np.sum(np.abs(y-predict))/2)/y.shape[0]\n",
    "    return rate;"
   ]
  },
  {
   "cell_type": "code",
   "execution_count": 15,
   "metadata": {
    "collapsed": true
   },
   "outputs": [],
   "source": [
    "#随机选取小样本\n",
    "def random_sample(X,y,m):\n",
    "    X_random=[]\n",
    "    y_random=[]\n",
    "    for i in range(m):\n",
    "        np.random.seed(i);\n",
    "        index=int(np.random.rand()*X.shape[0])\n",
    "        X_random.append(X[index])\n",
    "        y_random.append(y[index])\n",
    "    return np.array(X_random),np.array(y_random)"
   ]
  },
  {
   "cell_type": "code",
   "execution_count": 36,
   "metadata": {},
   "outputs": [],
   "source": [
    "def linear_classification_opti(trainfileName,testfileName):\n",
    "     #读取文件\n",
    "    X_train,y_train=load_svmlight_file(\"a9a\")\n",
    "    X_test,y_test=load_svmlight_file(\"a9at\",n_features=123)\n",
    "    #稀疏矩阵转ndarray\n",
    "    X_train=X_train.toarray().astype(float)\n",
    "    X_test=X_test.toarray().astype(float)\n",
    "    #保证y的shape\n",
    "    y_train=np.reshape(y_train,(y_train.shape[0],1))\n",
    "    y_test=np.reshape(y_test,(y_test.shape[0],1))\n",
    "    #添加一列全1,提供给b\n",
    "    X_b=np.ones(X_train.shape[0])\n",
    "    X_train=np.c_[X_b,X_train]\n",
    "    X_b=np.ones(X_test.shape[0])\n",
    "    X_test=np.c_[X_b,X_test]\n",
    "    iteration_time = [] #迭代次数   \n",
    "    #NAG\n",
    "    NAG_test_loss_value = [] #测试数据的loss值\n",
    "    #rmseprop\n",
    "    RMSEprop_test_loss_value = [] #测试数据的loss值\n",
    "    #Adadelta\n",
    "    Adadelta_test_loss_value = [] #测试数据的loss值\n",
    "    #Adam\n",
    "    Adam_test_loss_value = [] #测试数据的loss值\n",
    "    print(\"begin\")\n",
    "    #######################NAG##########################\n",
    "    #初始化参数\n",
    "    reg=1\n",
    "    w=np.zeros((1,X_train.shape[1]))\n",
    "    #学习率\n",
    "    rate=0.0001\n",
    "    #动量参数\n",
    "    u=0.8\n",
    "    #动量\n",
    "    v=0 \n",
    "    for i in range(1000):\n",
    "        #随机批量梯度\n",
    "        X_train_random,y_train_random=random_sample(X_train,y_train,2000)\n",
    "        gradient = svm_w_gradient(w - u * v, X_train_random, y_train_random,reg)\n",
    "        gradient = np.sum(gradient, axis=0) / gradient.shape[0]\n",
    "        v = u * v + rate * gradient;\n",
    "        w = w - v\n",
    "        NAG_test_loss_value.append(svm_costFunction(w,X_test,y_test,reg))\n",
    "        iteration_time.append(i+1) \n",
    "    print(\"NAG准确率\")\n",
    "    print(svm_predict(w,X_test,y_test))\n",
    "    ####################RMSEprop##########################\n",
    "        #初始化参数\n",
    "    reg=1\n",
    "    w=np.zeros((1,X_train.shape[1]))\n",
    "    rate=0.001#如果rate太大，会跳过最小值，再某个数值之间来回波动\n",
    "    u=0.8#权重参数\n",
    "    r=0#指数加权移动平均变量\n",
    "    theta=0.000001#稳定常数\n",
    "    for i in range(1000):\n",
    "        X_train_random, y_train_random = random_sample(X_train, y_train, 2000)\n",
    "        gradient = svm_w_gradient(w, X_train_random, y_train_random,reg)\n",
    "        gradient = np.sum(gradient, axis=0) / gradient.shape[0]\n",
    "        r=u*r+(1-u)*(gradient**2);\n",
    "        w=w-(rate/np.sqrt(theta+r))*gradient;\n",
    "        RMSEprop_test_loss_value.append(svm_costFunction(w,X_test,y_test,reg)) \n",
    "    print(\"RMSEprop准确率\")\n",
    "    print(svm_predict(w,X_test,y_test))\n",
    "\n",
    "    #####################Adadelta##########################\n",
    "    #初始化参数\n",
    "    reg=1\n",
    "    w=np.zeros((1,X_train.shape[1]))\n",
    "    rate=0.0001\n",
    "    s=0#对gradient指数加权移动平均变量\n",
    "    u=0.8#权重参数\n",
    "    delta=0#对s指数加权移动平均变量\n",
    "    theta=0.000001#稳定常数\n",
    "    for i in range(1000):\n",
    "        X_train_random, y_train_random = random_sample(X_train, y_train, 2000)\n",
    "\n",
    "        gradient = svm_w_gradient(w, X_train_random, y_train_random,reg)\n",
    "        gradient = np.sum(gradient, axis=0) / gradient.shape[0]\n",
    "        s=u*s+(1-u)*(gradient**2);\n",
    "        g=(np.sqrt(delta+theta)/np.sqrt(s+theta))*gradient\n",
    "        delta=u*delta+(1-u)*(g**2)\n",
    "        w=w-g \n",
    "        Adadelta_test_loss_value.append(svm_costFunction(w,X_test,y_test,reg))\n",
    "        \n",
    "    print(\"Adadelta准确率\")\n",
    "    print(svm_predict(w,X_test,y_test))\n",
    "    #######################Adam##########################\n",
    "    #初始化参数\n",
    "    reg=1\n",
    "    v=0#动量变量\n",
    "    w=np.zeros((1,X_train.shape[1]))\n",
    "    p1=0.9#动量参数\n",
    "    p2=0.999#指数加权参数\n",
    "    theta=0.00000001#稳定常数\n",
    "    s=0#指数加权移动平均变量\n",
    "    step=0#次数\n",
    "    rate=0.001\n",
    "    for i in range(1000):\n",
    "        step+=1\n",
    "        X_train_random, y_train_random = random_sample(X_train, y_train, 2000)\n",
    "        gradient = svm_w_gradient(w, X_train_random, y_train_random,reg)\n",
    "        gradient = gradient/ y_train_random.shape[0]\n",
    "        v=p1*v+(1-p1)*gradient;\n",
    "        s=p2*s+(1-p2)*(gradient**2)\n",
    "        v_=v/(1-p1**step)\n",
    "        s_=s/(1-p2**step)\n",
    "        w=w-rate*v_/(np.sqrt(s_)+theta)\n",
    "        Adam_test_loss_value.append(svm_costFunction(w,X_test,y_test,reg))\n",
    "    print(\"Adam准确率\")\n",
    "    print(svm_predict(w,X_test,y_test))   \n",
    "    plt.plot(iteration_time, NAG_test_loss_value , label='NAGTraining Loss')\n",
    "    plt.plot(iteration_time, RMSEprop_test_loss_value,label='RMSEpropTraining Loss')\n",
    "    plt.plot(iteration_time, Adadelta_test_loss_value,label='AdadeltapropTraining Loss')\n",
    "    plt.plot(iteration_time, Adam_test_loss_value,label='AdampropTraining Loss')\n",
    "    plt.title('loss')\n",
    "    plt.legend()\n",
    "    plt.show()\n",
    "    \n",
    "    \n",
    "    "
   ]
  },
  {
   "cell_type": "code",
   "execution_count": 37,
   "metadata": {},
   "outputs": [
    {
     "name": "stdout",
     "output_type": "stream",
     "text": [
      "begin\n",
      "NAG准确率\n",
      "0.844297033352\n",
      "RMSEprop准确率\n",
      "0.844112769486\n",
      "Adadelta准确率\n",
      "0.844419875929\n",
      "Adam准确率\n",
      "0.840550334746\n"
     ]
    },
    {
     "data": {
      "image/png": "[encoded data removed]",
      "text/plain": [
       "<matplotlib.figure.Figure at 0x7f5bce22a048>"
      ]
     },
     "metadata": {},
     "output_type": "display_data"
    }
   ],
   "source": [
    "linear_classification_opti(\"a9a\",\"a9at\")"
   ]
  },
  {
   "cell_type": "code",
   "execution_count": null,
   "metadata": {
    "collapsed": true
   },
   "outputs": [],
   "source": [
    "def NAG_opti(rate,u,v,gradient,w):\n",
    "    v = u * v + rate * gradient;\n",
    "    w = w - v\n",
    "    return w\n",
    "def Adam_opti(p1,p2,theta,s,step,rate,gradient,w,v):\n",
    "    v=p1*v+(1-p1)*gradient;\n",
    "    s=p2*s+(1-p2)*(gradient**2)\n",
    "    v_=v/(1-p1**step)\n",
    "    s_=s/(1-p2**step)\n",
    "    w=w-rate*v_/(np.sqrt(s_)+theta)\n",
    "    return w\n",
    "def RMSEprop_opti(r,u,theta,gradient,w,rate):\n",
    "    r=u*r+(1-u)*(gradient**2);\n",
    "    w=w-(rate/np.sqrt(theta+r))*gradient;\n",
    "    return w\n",
    "def Adadelta_opti(s,u,delta,theta,w,gradient):\n",
    "    s=u*s+(1-u)*(gradient**2);\n",
    "    g=(np.sqrt(delta+theta)/np.sqrt(s+theta))*gradient\n",
    "    delta=u*delta+(1-u)*(g**2)\n",
    "    w=w-g\n",
    "    return w"
   ]
  }
 ],
 "metadata": {
  "kernelspec": {
   "display_name": "Python 3",
   "language": "python",
   "name": "python3"
  },
  "language_info": {
   "codemirror_mode": {
    "name": "ipython",
    "version": 3
   },
   "file_extension": ".py",
   "mimetype": "text/x-python",
   "name": "python",
   "nbconvert_exporter": "python",
   "pygments_lexer": "ipython3",
   "version": "3.6.2"
  }
 },
 "nbformat": 4,
 "nbformat_minor": 2
}
